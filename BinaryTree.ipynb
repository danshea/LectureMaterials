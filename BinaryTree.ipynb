{
 "cells": [
  {
   "cell_type": "markdown",
   "metadata": {},
   "source": [
    "**Author:** Dan Shea  \n",
    "**Date:** 2019.11.29  \n",
    "**Description:** A simple binary tree class that implements the tree using a list and grows the tree in chunks.  \n",
    "The class provides functions for searching in both a breadth-first and depth-first manner.  \n",
    "Insertions are performed in a breadth first manner.  "
   ]
  },
  {
   "cell_type": "code",
   "execution_count": 1,
   "metadata": {},
   "outputs": [],
   "source": [
    "class BinaryTree:\n",
    "    def __init__(self, chunksize=100):\n",
    "        self.__chunksize__ = chunksize # When the index goes beyond the current size increase the size by chunksize\n",
    "        self.__size__ = chunksize # The tree is stored internally as a list here we set the intial size to be 100 nodes\n",
    "        self.__tree__ = [None for _ in range(self.__chunksize__)] # initialize the list to None values\n",
    "        self.root = self.__tree__[0] # The root points to the first index in the list\n",
    "        self.__index__ = 0 # Keep track of the index for the next call to insert.\n",
    "    \n",
    "    def __grow__(self):\n",
    "        '''grow() will increase the size of the tree by chunksize nodes'''\n",
    "        self.__tree__ = self.__tree__ + [None for _ in range(self.__chunksize__)]\n",
    "        self.__size__ += self.__chunksize__\n",
    "        \n",
    "    def insert(self, value):\n",
    "        '''insert(value) - insert the value into the tree growing the tree breadth-first.'''\n",
    "        # If the index is outside the size of the tree's bounds, first grow the tree by chunksize\n",
    "        if self.__index__ >= self.__size__:\n",
    "            self.__grow__()\n",
    "        # Place the value at the next available node in the tree\n",
    "        # (insertion is performed in a breadth-first manner)\n",
    "        self.__tree__[self.__index__] = value\n",
    "        # increment the index pointing to the next \n",
    "        self.__index__ += 1\n",
    "        \n",
    "    def replace(self, index, value):\n",
    "        '''replace(index, value) - replace the node at index with value'''\n",
    "        try:\n",
    "            self.__tree__[index] = value\n",
    "        except IndexError:\n",
    "            raise IndexError(f'replace failed, index {index} is out of range')\n",
    "    \n",
    "    def __dfs__(self, start, value):\n",
    "        '''__dfs__(start, value) - performs a recursive depth-first search of the tree, beginning at index\n",
    "           start and returning value's index in the tree if found, otherwise None is returned'''\n",
    "        if start >= self.__size__:\n",
    "            return None\n",
    "        elif self.__tree__[start] == None:\n",
    "            return None\n",
    "        elif self.__tree__[start] == value:\n",
    "            return start\n",
    "        else:\n",
    "            # Go as far left as we can go\n",
    "            result = self.__dfs__(2*start+1, value)\n",
    "            # If we didn't find it, go right\n",
    "            if result == None:\n",
    "                result = self.__dfs__(2*start+2, value)\n",
    "            # return our result\n",
    "            return result\n",
    "                    \n",
    "    def find(self, value, search='bfs'):\n",
    "        '''find(value, search=[bfs, dfs]) - return the index of the first item in the tree matching value\n",
    "           bfs will perform a breadth-first search, dfs will perform a depth-first search.\n",
    "        '''\n",
    "        if search == 'bfs':\n",
    "            try:\n",
    "                return self.__tree__.index(value)\n",
    "            except ValueError:\n",
    "                raise ValueError(f'{value} is not in the tree')\n",
    "        elif search == 'dfs':\n",
    "            result = self.__dfs__(0, value)\n",
    "            if result == None:\n",
    "                raise ValueError(f'{value} is not in the tree')\n",
    "            else:\n",
    "                return result\n",
    "        else:\n",
    "            raise TypeError('find requires search argument to be \\'bfs\\' or \\'dfs\\'')\n",
    "            "
   ]
  },
  {
   "cell_type": "markdown",
   "metadata": {},
   "source": [
    "![Figure 1](BinaryTree1.png \"Figure 1\")"
   ]
  },
  {
   "cell_type": "code",
   "execution_count": 2,
   "metadata": {},
   "outputs": [],
   "source": [
    "# instantiate a BinaryTree object\n",
    "btree = BinaryTree()\n",
    "btree.insert(0)"
   ]
  },
  {
   "cell_type": "markdown",
   "metadata": {},
   "source": [
    "![Figure 2](BinaryTree2.png \"Figure 2\")"
   ]
  },
  {
   "cell_type": "code",
   "execution_count": 3,
   "metadata": {},
   "outputs": [],
   "source": [
    "btree.insert(1)"
   ]
  },
  {
   "cell_type": "markdown",
   "metadata": {},
   "source": [
    "![Figure 3](BinaryTree3.png \"Figure 3\")"
   ]
  },
  {
   "cell_type": "code",
   "execution_count": 4,
   "metadata": {},
   "outputs": [],
   "source": [
    "btree.insert(2)"
   ]
  },
  {
   "cell_type": "markdown",
   "metadata": {},
   "source": [
    "![Figure 4](BinaryTree4.png \"Figure 4\")"
   ]
  },
  {
   "cell_type": "code",
   "execution_count": 5,
   "metadata": {},
   "outputs": [],
   "source": [
    "btree.insert(3)\n",
    "btree.insert(4)\n",
    "btree.insert(5)\n",
    "btree.insert(6)"
   ]
  },
  {
   "cell_type": "markdown",
   "metadata": {},
   "source": [
    "![Figure 5](BinaryTree5.png \"Figure 5\")"
   ]
  },
  {
   "cell_type": "code",
   "execution_count": 6,
   "metadata": {},
   "outputs": [
    {
     "name": "stdout",
     "output_type": "stream",
     "text": [
      "     Parent = 2\n",
      " Left child = 5\n",
      "Right child = 6\n"
     ]
    }
   ],
   "source": [
    "idx = 2\n",
    "print(f'     Parent = {btree.__tree__[idx]}')\n",
    "print(f' Left child = {btree.__tree__[2*idx+1]}')\n",
    "print(f'Right child = {btree.__tree__[2*idx+2]}')"
   ]
  },
  {
   "cell_type": "markdown",
   "metadata": {},
   "source": [
    "![Figure 6](BinaryTree6.png \"Figure 6\")"
   ]
  },
  {
   "cell_type": "code",
   "execution_count": 7,
   "metadata": {},
   "outputs": [
    {
     "data": {
      "text/plain": [
       "3"
      ]
     },
     "execution_count": 7,
     "metadata": {},
     "output_type": "execute_result"
    }
   ],
   "source": [
    "# search using BFS to find the index of the first instance of the value 3\n",
    "btree.find(3)"
   ]
  },
  {
   "cell_type": "markdown",
   "metadata": {},
   "source": [
    "![Figure 7](BinaryTree7.png \"Figure 7\")"
   ]
  },
  {
   "cell_type": "markdown",
   "metadata": {},
   "source": [
    "### To better illustrate the difference between the BFS and DFS, let's first replace the value at index=2 with a value of 3"
   ]
  },
  {
   "cell_type": "code",
   "execution_count": 8,
   "metadata": {},
   "outputs": [],
   "source": [
    "btree.replace(2, 3)"
   ]
  },
  {
   "cell_type": "markdown",
   "metadata": {},
   "source": [
    "### Now, if we try a BFS for the value of 3 we will return the index 2 since that is the first value of 3 encountered in a linear search of the list"
   ]
  },
  {
   "cell_type": "code",
   "execution_count": 9,
   "metadata": {},
   "outputs": [
    {
     "data": {
      "text/plain": [
       "2"
      ]
     },
     "execution_count": 9,
     "metadata": {},
     "output_type": "execute_result"
    }
   ],
   "source": [
    "btree.find(3, search='bfs')"
   ]
  },
  {
   "cell_type": "markdown",
   "metadata": {},
   "source": [
    "### Next we perform a DFS for the value 3 and the index 3 will be returned as it is the first value of 3 encountered when searching depth-first"
   ]
  },
  {
   "cell_type": "code",
   "execution_count": 10,
   "metadata": {},
   "outputs": [
    {
     "data": {
      "text/plain": [
       "3"
      ]
     },
     "execution_count": 10,
     "metadata": {},
     "output_type": "execute_result"
    }
   ],
   "source": [
    "# search using DFS to find the index of the first instance of the value 3\n",
    "btree.find(3, search='dfs')"
   ]
  },
  {
   "cell_type": "markdown",
   "metadata": {},
   "source": [
    "### When we instantiated the BinaryTree we didn't specify a chunksize, so it defaulted to 100"
   ]
  },
  {
   "cell_type": "code",
   "execution_count": 11,
   "metadata": {},
   "outputs": [
    {
     "data": {
      "text/plain": [
       "100"
      ]
     },
     "execution_count": 11,
     "metadata": {},
     "output_type": "execute_result"
    }
   ],
   "source": [
    "# The size of the list holding the tree is full\n",
    "btree.__size__"
   ]
  },
  {
   "cell_type": "markdown",
   "metadata": {},
   "source": [
    "### Let's fill up the other values in the current chunk and then insert one node past the maximum size and check the size of the tree again"
   ]
  },
  {
   "cell_type": "code",
   "execution_count": 12,
   "metadata": {},
   "outputs": [],
   "source": [
    "# insert some values in a breadth-first manner\n",
    "for i in [0 for _ in range(93)]:\n",
    "    btree.insert(i)"
   ]
  },
  {
   "cell_type": "code",
   "execution_count": 13,
   "metadata": {},
   "outputs": [
    {
     "data": {
      "text/plain": [
       "100"
      ]
     },
     "execution_count": 13,
     "metadata": {},
     "output_type": "execute_result"
    }
   ],
   "source": [
    "btree.__size__"
   ]
  },
  {
   "cell_type": "code",
   "execution_count": 14,
   "metadata": {},
   "outputs": [],
   "source": [
    "# Insert another node\n",
    "btree.insert('foo')"
   ]
  },
  {
   "cell_type": "code",
   "execution_count": 15,
   "metadata": {},
   "outputs": [
    {
     "data": {
      "text/plain": [
       "200"
      ]
     },
     "execution_count": 15,
     "metadata": {},
     "output_type": "execute_result"
    }
   ],
   "source": [
    "# We see that the size of the tree has been grown by chunksize\n",
    "btree.__size__"
   ]
  },
  {
   "cell_type": "code",
   "execution_count": 16,
   "metadata": {},
   "outputs": [
    {
     "data": {
      "text/plain": [
       "100"
      ]
     },
     "execution_count": 16,
     "metadata": {},
     "output_type": "execute_result"
    }
   ],
   "source": [
    "# Report the index of 'foo' using BFS\n",
    "btree.find('foo')"
   ]
  },
  {
   "cell_type": "code",
   "execution_count": 17,
   "metadata": {},
   "outputs": [
    {
     "data": {
      "text/plain": [
       "100"
      ]
     },
     "execution_count": 17,
     "metadata": {},
     "output_type": "execute_result"
    }
   ],
   "source": [
    "# Report the index of 'foo' using DFS\n",
    "btree.find('foo', search='dfs')"
   ]
  },
  {
   "cell_type": "markdown",
   "metadata": {},
   "source": [
    "### That ends this interactive notebook on a python list implementation of binary trees."
   ]
  },
  {
   "cell_type": "code",
   "execution_count": null,
   "metadata": {},
   "outputs": [],
   "source": []
  }
 ],
 "metadata": {
  "kernelspec": {
   "display_name": "Python 3",
   "language": "python",
   "name": "python3"
  },
  "language_info": {
   "codemirror_mode": {
    "name": "ipython",
    "version": 3
   },
   "file_extension": ".py",
   "mimetype": "text/x-python",
   "name": "python",
   "nbconvert_exporter": "python",
   "pygments_lexer": "ipython3",
   "version": "3.8.0"
  }
 },
 "nbformat": 4,
 "nbformat_minor": 4
}
