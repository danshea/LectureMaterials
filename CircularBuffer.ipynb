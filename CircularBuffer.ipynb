{
 "cells": [
  {
   "cell_type": "markdown",
   "metadata": {},
   "source": [
    "Author: Dan Shea  \n",
    "Date: 2019.12.03  \n",
    "Description: Implementation of a fixed-size circular buffer  \n",
    "Some assumptions:  \n",
    "* Old data is overwritten by new data\n",
    "* Buffer size is declared at instantiation time and does not change"
   ]
  },
  {
   "cell_type": "code",
   "execution_count": 34,
   "metadata": {},
   "outputs": [],
   "source": [
    "class BufferNode:\n",
    "    def __init__(self, value=None):\n",
    "        self.value = value\n",
    "        \n",
    "    def __repr__(self):\n",
    "        return f'BufferNode({self.value})'\n",
    "    \n",
    "    def __str__(self):\n",
    "        return str(self.value)"
   ]
  },
  {
   "cell_type": "code",
   "execution_count": 43,
   "metadata": {},
   "outputs": [],
   "source": [
    "class CircularBuffer:\n",
    "    def __init__(self, size=100):\n",
    "        self.__size__ = size # The maximum size of the buffer before data gets overwritten\n",
    "        self.start = -1 # Points to the oldest piece of data in the buffer\n",
    "        self.end = 0    # Points to the newest piece of data in the buffer\n",
    "        self.next = 0   # Points to the next location for data to be written to the buffer\n",
    "        self.buffer = [None for _ in range(size)] # Initialize all nodes in the buffer to None\n",
    "    \n",
    "    def insert(self, value):\n",
    "        '''insert(value) - insert value into the next location in the buffer'''\n",
    "        # If the next buffer position to be inserted into doesn't yet contain a BufferNode\n",
    "        if self.buffer[self.next] == None:\n",
    "            # Create a new BufferNode object\n",
    "            new_node = BufferNode(value)\n",
    "            # Place it into the buffer at the next position to be written to\n",
    "            self.buffer[self.next] = new_node\n",
    "        else:\n",
    "            # Re-use the existing BufferNode object at next\n",
    "            self.buffer[self.next].value = value\n",
    "        # Do the bookkeeping on indices\n",
    "        # Update the end to point to this newly inserted node\n",
    "        self.end = self.next\n",
    "        # If the new end equals the old start, increment start\n",
    "        if self.end == self.start:\n",
    "            self.start = (self.start + 1) % self.__size__\n",
    "        # Increment the next\n",
    "        self.next = (self.next + 1) % self.__size__\n",
    "        # If this was the very first insert into the buffer then we set start to 0\n",
    "        if self.start == -1:\n",
    "            self.start = 0\n",
    "        \n",
    "    def __repr__(self):\n",
    "        return f'CircularBuffer([' + ', '.join(map(str, self.buffer)) + f'])'\n",
    "        "
   ]
  },
  {
   "cell_type": "code",
   "execution_count": 53,
   "metadata": {},
   "outputs": [],
   "source": [
    "cb = CircularBuffer(size=10)"
   ]
  },
  {
   "cell_type": "code",
   "execution_count": 54,
   "metadata": {},
   "outputs": [
    {
     "data": {
      "text/plain": [
       "CircularBuffer([None, None, None, None, None, None, None, None, None, None])"
      ]
     },
     "execution_count": 54,
     "metadata": {},
     "output_type": "execute_result"
    }
   ],
   "source": [
    "cb"
   ]
  },
  {
   "cell_type": "code",
   "execution_count": 55,
   "metadata": {},
   "outputs": [
    {
     "name": "stdout",
     "output_type": "stream",
     "text": [
      "insert(0)\n",
      "CircularBuffer([0, None, None, None, None, None, None, None, None, None])\n",
      "insert(1)\n",
      "CircularBuffer([0, 1, None, None, None, None, None, None, None, None])\n",
      "insert(2)\n",
      "CircularBuffer([0, 1, 2, None, None, None, None, None, None, None])\n",
      "insert(3)\n",
      "CircularBuffer([0, 1, 2, 3, None, None, None, None, None, None])\n",
      "insert(4)\n",
      "CircularBuffer([0, 1, 2, 3, 4, None, None, None, None, None])\n",
      "insert(5)\n",
      "CircularBuffer([0, 1, 2, 3, 4, 5, None, None, None, None])\n",
      "insert(6)\n",
      "CircularBuffer([0, 1, 2, 3, 4, 5, 6, None, None, None])\n",
      "insert(7)\n",
      "CircularBuffer([0, 1, 2, 3, 4, 5, 6, 7, None, None])\n",
      "insert(8)\n",
      "CircularBuffer([0, 1, 2, 3, 4, 5, 6, 7, 8, None])\n",
      "insert(9)\n",
      "CircularBuffer([0, 1, 2, 3, 4, 5, 6, 7, 8, 9])\n",
      "insert(10)\n",
      "CircularBuffer([10, 1, 2, 3, 4, 5, 6, 7, 8, 9])\n",
      "insert(11)\n",
      "CircularBuffer([10, 11, 2, 3, 4, 5, 6, 7, 8, 9])\n",
      "insert(12)\n",
      "CircularBuffer([10, 11, 12, 3, 4, 5, 6, 7, 8, 9])\n",
      "insert(13)\n",
      "CircularBuffer([10, 11, 12, 13, 4, 5, 6, 7, 8, 9])\n",
      "insert(14)\n",
      "CircularBuffer([10, 11, 12, 13, 14, 5, 6, 7, 8, 9])\n",
      "insert(15)\n",
      "CircularBuffer([10, 11, 12, 13, 14, 15, 6, 7, 8, 9])\n",
      "insert(16)\n",
      "CircularBuffer([10, 11, 12, 13, 14, 15, 16, 7, 8, 9])\n",
      "insert(17)\n",
      "CircularBuffer([10, 11, 12, 13, 14, 15, 16, 17, 8, 9])\n",
      "insert(18)\n",
      "CircularBuffer([10, 11, 12, 13, 14, 15, 16, 17, 18, 9])\n",
      "insert(19)\n",
      "CircularBuffer([10, 11, 12, 13, 14, 15, 16, 17, 18, 19])\n",
      "insert(20)\n",
      "CircularBuffer([20, 11, 12, 13, 14, 15, 16, 17, 18, 19])\n",
      "insert(21)\n",
      "CircularBuffer([20, 21, 12, 13, 14, 15, 16, 17, 18, 19])\n",
      "insert(22)\n",
      "CircularBuffer([20, 21, 22, 13, 14, 15, 16, 17, 18, 19])\n",
      "insert(23)\n",
      "CircularBuffer([20, 21, 22, 23, 14, 15, 16, 17, 18, 19])\n",
      "insert(24)\n",
      "CircularBuffer([20, 21, 22, 23, 24, 15, 16, 17, 18, 19])\n",
      "insert(25)\n",
      "CircularBuffer([20, 21, 22, 23, 24, 25, 16, 17, 18, 19])\n",
      "insert(26)\n",
      "CircularBuffer([20, 21, 22, 23, 24, 25, 26, 17, 18, 19])\n",
      "insert(27)\n",
      "CircularBuffer([20, 21, 22, 23, 24, 25, 26, 27, 18, 19])\n",
      "insert(28)\n",
      "CircularBuffer([20, 21, 22, 23, 24, 25, 26, 27, 28, 19])\n",
      "insert(29)\n",
      "CircularBuffer([20, 21, 22, 23, 24, 25, 26, 27, 28, 29])\n"
     ]
    }
   ],
   "source": [
    "for i in range(30):\n",
    "    print(f'insert({i})')\n",
    "    cb.insert(i)\n",
    "    print(cb)\n",
    "    "
   ]
  },
  {
   "cell_type": "code",
   "execution_count": null,
   "metadata": {},
   "outputs": [],
   "source": []
  }
 ],
 "metadata": {
  "kernelspec": {
   "display_name": "Python 3",
   "language": "python",
   "name": "python3"
  },
  "language_info": {
   "codemirror_mode": {
    "name": "ipython",
    "version": 3
   },
   "file_extension": ".py",
   "mimetype": "text/x-python",
   "name": "python",
   "nbconvert_exporter": "python",
   "pygments_lexer": "ipython3",
   "version": "3.8.0"
  }
 },
 "nbformat": 4,
 "nbformat_minor": 4
}
