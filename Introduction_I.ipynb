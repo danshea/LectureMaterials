{
 "cells": [
  {
   "cell_type": "markdown",
   "metadata": {},
   "source": [
    "Author: Dan Shea  \n",
    "Date: 2019.12.04  \n",
    "Description: Introduction to Python Programming  \n",
    "This workbook aims to be the initial introduction and reference to programming in the Python language for the introductory course I am designing.  \n",
    "The goal is to introduce programming concepts to students in the biological sciences who may not have otherwise encountered programming yet in their educational curriculum.  "
   ]
  },
  {
   "cell_type": "markdown",
   "metadata": {},
   "source": [
    "### Section 1 - Variables and assignments\n",
    "Variables may be thought of the same way we think of them in Mathematics, as a representation of some value. The difference here is that we are not only concerned with numbers, but with any of the other things that we encounter within the Python language itself.  \n",
    "\n",
    "To assign a value to a variable, we use the following syntax:  \n",
    "`x = 1`  \n",
    "Here, the value on the left side of the equals sign is referred to as the `lvalue` and the value on the right side is the `rvalue`.  \n",
    "We are assigning the value of `1` to the variable `x`.  \n",
    "Below, we will illustrate some of the assignments possible in Python, and introduce of of the `types` that data may come from."
   ]
  },
  {
   "cell_type": "code",
   "execution_count": 5,
   "metadata": {},
   "outputs": [
    {
     "name": "stdout",
     "output_type": "stream",
     "text": [
      "Variable x has a value of 1 and is of type <class 'int'>\n"
     ]
    }
   ],
   "source": [
    "x = 1\n",
    "print(f'Variable x has a value of {x} and is of type {type(x)}')"
   ]
  },
  {
   "cell_type": "code",
   "execution_count": 6,
   "metadata": {},
   "outputs": [
    {
     "name": "stdout",
     "output_type": "stream",
     "text": [
      "Variable y has a value of 3.14 and is of type <class 'float'>\n"
     ]
    }
   ],
   "source": [
    "y = 3.14\n",
    "print(f'Variable y has a value of {y} and is of type {type(y)}')"
   ]
  },
  {
   "cell_type": "code",
   "execution_count": 7,
   "metadata": {},
   "outputs": [
    {
     "name": "stdout",
     "output_type": "stream",
     "text": [
      "Variable z has a value of Dan and is of type <class 'str'>\n"
     ]
    }
   ],
   "source": [
    "z = 'Dan'\n",
    "print(f'Variable z has a value of {z} and is of type {type(z)}')"
   ]
  },
  {
   "cell_type": "markdown",
   "metadata": {},
   "source": [
    "In the above examples, notice that the number `1` is an `int`, which is short for Integer, that is the set of numbers you would apply when counting objects or dealing with things that are not fractional.  The second example contains the abbreviated value of $\\pi$, `3.14`, and is of type `float`. This is short for floating-point and without delving too deeply into floating point numbers and computing, we can for the time being just think of them as numbers we would use when dealing with things that may resolve to fractional values, such a `1/2` which would return `0.5` (see the discussion of arithmetic operations below). The last example is my name, but it could be any text that we may encounter and it is of type `str`, which is short for String. During this course, we will encounter more types, but for now let's stick with these three and examine arithmetic operators.\n",
    "\n",
    "First we will start with the basics, addition `+`, subtraction `-`, multiplication `*`, and division `/`.  \n",
    "Let's make use of the variables that we assigned previously, and also show how we might use variable assignment to store newly computed values using our arithmetic operations."
   ]
  },
  {
   "cell_type": "code",
   "execution_count": 8,
   "metadata": {},
   "outputs": [
    {
     "data": {
      "text/plain": [
       "2"
      ]
     },
     "execution_count": 8,
     "metadata": {},
     "output_type": "execute_result"
    }
   ],
   "source": [
    "# Adding integers will always return integers\n",
    "1 + 1"
   ]
  },
  {
   "cell_type": "code",
   "execution_count": 9,
   "metadata": {},
   "outputs": [
    {
     "data": {
      "text/plain": [
       "2"
      ]
     },
     "execution_count": 9,
     "metadata": {},
     "output_type": "execute_result"
    }
   ],
   "source": [
    "# And we can make use of our previously defined variable to see what adding one to that will return\n",
    "x + 1"
   ]
  },
  {
   "cell_type": "code",
   "execution_count": 11,
   "metadata": {},
   "outputs": [
    {
     "data": {
      "text/plain": [
       "0.5"
      ]
     },
     "execution_count": 11,
     "metadata": {},
     "output_type": "execute_result"
    }
   ],
   "source": [
    "# Here, we are dividing two integers, but we get a float back because the result is a fraction which we represent as a floating point number\n",
    "1 / 2"
   ]
  },
  {
   "cell_type": "code",
   "execution_count": 10,
   "metadata": {},
   "outputs": [
    {
     "data": {
      "text/plain": [
       "0.3184713375796178"
      ]
     },
     "execution_count": 10,
     "metadata": {},
     "output_type": "execute_result"
    }
   ],
   "source": [
    "# Let's try dividing our two numeric variables from earlier\n",
    "x / y"
   ]
  },
  {
   "cell_type": "code",
   "execution_count": 12,
   "metadata": {},
   "outputs": [
    {
     "data": {
      "text/plain": [
       "1.0"
      ]
     },
     "execution_count": 12,
     "metadata": {},
     "output_type": "execute_result"
    }
   ],
   "source": [
    "# Here we see that Python is consistent with respect to division operations. One divided by one is one, but look at the way the result is represented.\n",
    "# What type of value was returned?\n",
    "1 / 1"
   ]
  },
  {
   "cell_type": "code",
   "execution_count": 13,
   "metadata": {},
   "outputs": [
    {
     "data": {
      "text/plain": [
       "1"
      ]
     },
     "execution_count": 13,
     "metadata": {},
     "output_type": "execute_result"
    }
   ],
   "source": [
    "# Multiplcation is a bit different as we can see here\n",
    "1 * 1"
   ]
  },
  {
   "cell_type": "code",
   "execution_count": 14,
   "metadata": {},
   "outputs": [
    {
     "data": {
      "text/plain": [
       "0.25"
      ]
     },
     "execution_count": 14,
     "metadata": {},
     "output_type": "execute_result"
    }
   ],
   "source": [
    "1 * 0.25"
   ]
  },
  {
   "cell_type": "code",
   "execution_count": 15,
   "metadata": {},
   "outputs": [
    {
     "data": {
      "text/plain": [
       "'foobar'"
      ]
     },
     "execution_count": 15,
     "metadata": {},
     "output_type": "execute_result"
    }
   ],
   "source": [
    "# What if we try to add two Strings together?\n",
    "'foo' + 'bar'"
   ]
  },
  {
   "cell_type": "markdown",
   "metadata": {},
   "source": [
    "Here we see what is known as `operator overloading`. When `+` encounters `int` or `float` it knows that it can add them together, but addition is not defined for strings. So Python has chosen to have the `+` operator act as concatenation and returns the result of concatenating the first string with the second string."
   ]
  },
  {
   "cell_type": "code",
   "execution_count": 16,
   "metadata": {},
   "outputs": [
    {
     "data": {
      "text/plain": [
       "'Ho! Ho! Ho! '"
      ]
     },
     "execution_count": 16,
     "metadata": {},
     "output_type": "execute_result"
    }
   ],
   "source": [
    "# What does multiplication do on strings?\n",
    "'Ho! ' * 3 "
   ]
  },
  {
   "cell_type": "code",
   "execution_count": 17,
   "metadata": {},
   "outputs": [
    {
     "ename": "TypeError",
     "evalue": "can't multiply sequence by non-int of type 'str'",
     "output_type": "error",
     "traceback": [
      "\u001b[0;31m---------------------------------------------------------------------------\u001b[0m",
      "\u001b[0;31mTypeError\u001b[0m                                 Traceback (most recent call last)",
      "\u001b[0;32m<ipython-input-17-3aa27b7913e7>\u001b[0m in \u001b[0;36m<module>\u001b[0;34m\u001b[0m\n\u001b[0;32m----> 1\u001b[0;31m \u001b[0;34m'Ha'\u001b[0m \u001b[0;34m*\u001b[0m \u001b[0;34m'Ho'\u001b[0m\u001b[0;34m\u001b[0m\u001b[0;34m\u001b[0m\u001b[0m\n\u001b[0m",
      "\u001b[0;31mTypeError\u001b[0m: can't multiply sequence by non-int of type 'str'"
     ]
    }
   ],
   "source": [
    "# Hmmmm....\n",
    "'Ha' * 'Ho'"
   ]
  },
  {
   "cell_type": "markdown",
   "metadata": {},
   "source": [
    "So here we see that if we take a string and multiply it by an int, we get back a copy of the string concatenated to itself that many times. But the `*` operator is not defined for multiplication of two strings. If we read the error message (Traceback) that we received, we see that it tells us exactly what is wrong.  \n",
    "\n",
    "`TypeError: can't multiply sequence by non-int of type 'str'`\n",
    "\n",
    "First, we see the exception raised was a `TypeError`. We also see the associated error message informs us that we \"can't multiply sequence by non-int of type 'str'\".  \n",
    "The second argument is of type 'str' and not 'int', (hence a \"non-int\") and the \"sequence\" is our string to the left of the `*` operator. \n",
    "\n",
    "Welcome to your first python Traceback! During this course you will most likely encounter Tracebacks when trying to write solutions to assignments. You are strongly encouraged to examine the error messages, as they will usually give you some idea of where the code went wrong.\n",
    "\n",
    "Let's finish up with some examples of subtraction and variable assignment of results to some slightly more complex formulas."
   ]
  },
  {
   "cell_type": "code",
   "execution_count": 18,
   "metadata": {},
   "outputs": [
    {
     "data": {
      "text/plain": [
       "2"
      ]
     },
     "execution_count": 18,
     "metadata": {},
     "output_type": "execute_result"
    }
   ],
   "source": [
    "4 - 2"
   ]
  },
  {
   "cell_type": "code",
   "execution_count": 19,
   "metadata": {},
   "outputs": [
    {
     "data": {
      "text/plain": [
       "2.0"
      ]
     },
     "execution_count": 19,
     "metadata": {},
     "output_type": "execute_result"
    }
   ],
   "source": [
    "4 - 2.0"
   ]
  },
  {
   "cell_type": "code",
   "execution_count": 20,
   "metadata": {},
   "outputs": [
    {
     "data": {
      "text/plain": [
       "-3"
      ]
     },
     "execution_count": 20,
     "metadata": {},
     "output_type": "execute_result"
    }
   ],
   "source": [
    "-1 - 2"
   ]
  },
  {
   "cell_type": "code",
   "execution_count": 23,
   "metadata": {},
   "outputs": [
    {
     "data": {
      "text/plain": [
       "4.0"
      ]
     },
     "execution_count": 23,
     "metadata": {},
     "output_type": "execute_result"
    }
   ],
   "source": [
    "2.0 - -2"
   ]
  },
  {
   "cell_type": "code",
   "execution_count": 24,
   "metadata": {},
   "outputs": [
    {
     "data": {
      "text/plain": [
       "-3.14"
      ]
     },
     "execution_count": 24,
     "metadata": {},
     "output_type": "execute_result"
    }
   ],
   "source": [
    "-y"
   ]
  },
  {
   "cell_type": "code",
   "execution_count": 25,
   "metadata": {},
   "outputs": [
    {
     "name": "stdout",
     "output_type": "stream",
     "text": [
      "Variable a = 2\n",
      "a * a = 4\n"
     ]
    }
   ],
   "source": [
    "a = 2\n",
    "b = a * a\n",
    "print(f'Variable a = {a}', flush=True)\n",
    "print(f'a * a = {b}', flush=True)"
   ]
  },
  {
   "cell_type": "markdown",
   "metadata": {},
   "source": [
    "It is important to understand that the calculation of `a * a` was performed at the time of assignment and the result was stored into variable `b`. If we now change the value of `a`, the value stored in `b` **does not change**."
   ]
  },
  {
   "cell_type": "code",
   "execution_count": 27,
   "metadata": {},
   "outputs": [
    {
     "name": "stdout",
     "output_type": "stream",
     "text": [
      "Variable a = 1.2\n",
      "Variable b = 4\n"
     ]
    }
   ],
   "source": [
    "a = 1.2\n",
    "print(f'Variable a = {a}', flush=True)\n",
    "print(f'Variable b = {b}', flush=True)"
   ]
  },
  {
   "cell_type": "markdown",
   "metadata": {},
   "source": [
    "### Functions\n",
    "If we want to do something with python more than simply use it as a calculator, we're going to need the ability to define our own procedures that accept values and return something back to us. If you have any previous programming experience, you may already know what a function is, or perhaps it was called a procedure in the language that you used. The values that we pass to the function are known as the function's _arguments_ and if we want our function to return to us some result we will make use of the `return` keyword."
   ]
  },
  {
   "cell_type": "code",
   "execution_count": 28,
   "metadata": {},
   "outputs": [],
   "source": [
    "def my_function(a, b, c):\n",
    "    return a + b + c"
   ]
  },
  {
   "cell_type": "markdown",
   "metadata": {},
   "source": [
    "We defined a function by first using the `def` keyword and our functions name. We also named the positional arguments to our function a, b, and c and followed that up with a `:`.  Then, we simply `return` the sum of `a + b + c` on the next line. Let's try it out!"
   ]
  },
  {
   "cell_type": "code",
   "execution_count": 29,
   "metadata": {},
   "outputs": [
    {
     "data": {
      "text/plain": [
       "6"
      ]
     },
     "execution_count": 29,
     "metadata": {},
     "output_type": "execute_result"
    }
   ],
   "source": [
    "my_function(1, 2, 3)"
   ]
  },
  {
   "cell_type": "code",
   "execution_count": 30,
   "metadata": {},
   "outputs": [
    {
     "data": {
      "text/plain": [
       "'foobar!'"
      ]
     },
     "execution_count": 30,
     "metadata": {},
     "output_type": "execute_result"
    }
   ],
   "source": [
    "my_function('foo', 'bar', '!')"
   ]
  },
  {
   "cell_type": "markdown",
   "metadata": {},
   "source": [
    "Why did that happen! Recall that the `+` operator is defined as addition for integers and floats, but acts as concatenation for strings. What if we try to mix the argument types?"
   ]
  },
  {
   "cell_type": "code",
   "execution_count": 31,
   "metadata": {},
   "outputs": [
    {
     "ename": "TypeError",
     "evalue": "can only concatenate str (not \"int\") to str",
     "output_type": "error",
     "traceback": [
      "\u001b[0;31m---------------------------------------------------------------------------\u001b[0m",
      "\u001b[0;31mTypeError\u001b[0m                                 Traceback (most recent call last)",
      "\u001b[0;32m<ipython-input-31-72745f1cfc4f>\u001b[0m in \u001b[0;36m<module>\u001b[0;34m\u001b[0m\n\u001b[0;32m----> 1\u001b[0;31m \u001b[0mmy_function\u001b[0m\u001b[0;34m(\u001b[0m\u001b[0;34m'foo'\u001b[0m\u001b[0;34m,\u001b[0m \u001b[0;36m1\u001b[0m\u001b[0;34m,\u001b[0m \u001b[0;34m'bar'\u001b[0m\u001b[0;34m)\u001b[0m\u001b[0;34m\u001b[0m\u001b[0;34m\u001b[0m\u001b[0m\n\u001b[0m",
      "\u001b[0;32m<ipython-input-28-9f6bd1a8af2b>\u001b[0m in \u001b[0;36mmy_function\u001b[0;34m(a, b, c)\u001b[0m\n\u001b[1;32m      1\u001b[0m \u001b[0;32mdef\u001b[0m \u001b[0mmy_function\u001b[0m\u001b[0;34m(\u001b[0m\u001b[0ma\u001b[0m\u001b[0;34m,\u001b[0m \u001b[0mb\u001b[0m\u001b[0;34m,\u001b[0m \u001b[0mc\u001b[0m\u001b[0;34m)\u001b[0m\u001b[0;34m:\u001b[0m\u001b[0;34m\u001b[0m\u001b[0;34m\u001b[0m\u001b[0m\n\u001b[0;32m----> 2\u001b[0;31m     \u001b[0;32mreturn\u001b[0m \u001b[0ma\u001b[0m \u001b[0;34m+\u001b[0m \u001b[0mb\u001b[0m \u001b[0;34m+\u001b[0m \u001b[0mc\u001b[0m\u001b[0;34m\u001b[0m\u001b[0;34m\u001b[0m\u001b[0m\n\u001b[0m",
      "\u001b[0;31mTypeError\u001b[0m: can only concatenate str (not \"int\") to str"
     ]
    }
   ],
   "source": [
    "my_function('foo', 1, 'bar')"
   ]
  },
  {
   "cell_type": "markdown",
   "metadata": {},
   "source": [
    "We get a very helpful Traceback that tells us `can only concatenate str (not \"int\") to str`. Because the first argument was a string, the interpreter wanted to concatenate `'foo'` and `1` together, but since `1` is an int it raised an Exception and even shows us the line where the error occurred. Remember, read your Tracebacks and it will be easier to fix your mistakes!\n",
    "\n",
    "So what if an int was the first argument?"
   ]
  },
  {
   "cell_type": "code",
   "execution_count": 32,
   "metadata": {},
   "outputs": [
    {
     "ename": "TypeError",
     "evalue": "unsupported operand type(s) for +: 'int' and 'str'",
     "output_type": "error",
     "traceback": [
      "\u001b[0;31m---------------------------------------------------------------------------\u001b[0m",
      "\u001b[0;31mTypeError\u001b[0m                                 Traceback (most recent call last)",
      "\u001b[0;32m<ipython-input-32-39eb5de6c6fb>\u001b[0m in \u001b[0;36m<module>\u001b[0;34m\u001b[0m\n\u001b[0;32m----> 1\u001b[0;31m \u001b[0mmy_function\u001b[0m\u001b[0;34m(\u001b[0m\u001b[0;36m1\u001b[0m\u001b[0;34m,\u001b[0m \u001b[0;34m'foo'\u001b[0m\u001b[0;34m,\u001b[0m \u001b[0;34m'bar'\u001b[0m\u001b[0;34m)\u001b[0m\u001b[0;34m\u001b[0m\u001b[0;34m\u001b[0m\u001b[0m\n\u001b[0m",
      "\u001b[0;32m<ipython-input-28-9f6bd1a8af2b>\u001b[0m in \u001b[0;36mmy_function\u001b[0;34m(a, b, c)\u001b[0m\n\u001b[1;32m      1\u001b[0m \u001b[0;32mdef\u001b[0m \u001b[0mmy_function\u001b[0m\u001b[0;34m(\u001b[0m\u001b[0ma\u001b[0m\u001b[0;34m,\u001b[0m \u001b[0mb\u001b[0m\u001b[0;34m,\u001b[0m \u001b[0mc\u001b[0m\u001b[0;34m)\u001b[0m\u001b[0;34m:\u001b[0m\u001b[0;34m\u001b[0m\u001b[0;34m\u001b[0m\u001b[0m\n\u001b[0;32m----> 2\u001b[0;31m     \u001b[0;32mreturn\u001b[0m \u001b[0ma\u001b[0m \u001b[0;34m+\u001b[0m \u001b[0mb\u001b[0m \u001b[0;34m+\u001b[0m \u001b[0mc\u001b[0m\u001b[0;34m\u001b[0m\u001b[0;34m\u001b[0m\u001b[0m\n\u001b[0m",
      "\u001b[0;31mTypeError\u001b[0m: unsupported operand type(s) for +: 'int' and 'str'"
     ]
    }
   ],
   "source": [
    "my_function(1, 'foo', 'bar')"
   ]
  },
  {
   "cell_type": "raw",
   "metadata": {},
   "source": [
    "The error message is different! `unsupported operand type(s) for +: 'int' and 'str'`  \n",
    "Why do you think that is?  \n",
    "The `+` operator received an int as is first argument, and so it tried to apply the definition of `+` that it has for ints. But the second argument was a string and we can't add strings, so it raises a `TypeError` exception and we get a Traceback telling us that our operand types are not supported."
   ]
  },
  {
   "cell_type": "code",
   "execution_count": 33,
   "metadata": {},
   "outputs": [
    {
     "data": {
      "text/plain": [
       "6"
      ]
     },
     "execution_count": 33,
     "metadata": {},
     "output_type": "execute_result"
    }
   ],
   "source": [
    "x, y, z = 1, 2, 3\n",
    "my_function(x, y, z)"
   ]
  },
  {
   "cell_type": "markdown",
   "metadata": {},
   "source": [
    "Here, we see another interesting capability of python. We can assign more than one variable a value on the same line. This is useful if we wanted to swap the values of `i` and `j`."
   ]
  },
  {
   "cell_type": "code",
   "execution_count": 34,
   "metadata": {},
   "outputs": [
    {
     "name": "stdout",
     "output_type": "stream",
     "text": [
      "i = 0 and j = 10\n",
      "Swapping i and j...\n",
      "i = 10 and j = 0\n"
     ]
    }
   ],
   "source": [
    "i=0\n",
    "j=10\n",
    "print(f'i = {i} and j = {j}', flush=True)\n",
    "i, j = j, i\n",
    "print(f'Swapping i and j...', flush=True)\n",
    "print(f'i = {i} and j = {j}', flush=True)"
   ]
  },
  {
   "cell_type": "markdown",
   "metadata": {},
   "source": [
    "Let's dissect what happened on the `i, j = j, i` line.  \n",
    "The `i, j` on the left side are _lvalues_ that are being assigned the _rvalues_ of `j` and `i` on the right side of the assignment statement.  \n",
    "So if we substitute the variables with the actual _rvalues_ the line would look like this:  \n",
    "\n",
    "`i, j = 10, 0`  \n",
    "\n",
    "It is important to note that this is done as what is known as an _atomic operation_, meaning it all happens in one step. Consider if we had tried to do it on separate lines as shown below:"
   ]
  },
  {
   "cell_type": "code",
   "execution_count": 35,
   "metadata": {},
   "outputs": [
    {
     "name": "stdout",
     "output_type": "stream",
     "text": [
      "i = 0 and j = 10\n",
      "Swapping i and j...\n",
      "i = 10 and j = 10\n"
     ]
    }
   ],
   "source": [
    "i=0\n",
    "j=10\n",
    "print(f'i = {i} and j = {j}', flush=True)\n",
    "i = j\n",
    "j = i\n",
    "print(f'Swapping i and j...', flush=True)\n",
    "print(f'i = {i} and j = {j}', flush=True)"
   ]
  },
  {
   "cell_type": "markdown",
   "metadata": {},
   "source": [
    "Here, we assigned `i` the _rvalue_ of `j` (which was 10).  \n",
    "Then, we assigned `j` the _rvalue_ of `i` (which we made 10 on the previous line!)  \n",
    "This was not an _atomic operation_!!!! The steps were carried out one at a time.\n",
    "\n",
    "How you would fix this so that you could swap i and j?"
   ]
  },
  {
   "cell_type": "code",
   "execution_count": 36,
   "metadata": {},
   "outputs": [
    {
     "name": "stdout",
     "output_type": "stream",
     "text": [
      "i = 0 and j = 10\n",
      "Swapping i and j...\n",
      "i = 10 and j = 0\n"
     ]
    }
   ],
   "source": [
    "i=0\n",
    "j=10\n",
    "print(f'i = {i} and j = {j}', flush=True)\n",
    "tmp = i\n",
    "i = j\n",
    "j = tmp\n",
    "print(f'Swapping i and j...', flush=True)\n",
    "print(f'i = {i} and j = {j}', flush=True)"
   ]
  },
  {
   "cell_type": "markdown",
   "metadata": {},
   "source": [
    "You must first copy the _rvalue_ of `i` into a new variable (we used `tmp` here).\n",
    "Then, you can copy the _rvalue_ of `j` into `i`.\n",
    "And finally, copy the _rvalue_ of what `i` was originally from `tmp` into `j`.\n",
    "\n",
    "Some questions:  \n",
    "* Which was easier to write?\n",
    "* Which was easier to read?"
   ]
  }
 ],
 "metadata": {
  "kernelspec": {
   "display_name": "Python 3",
   "language": "python",
   "name": "python3"
  },
  "language_info": {
   "codemirror_mode": {
    "name": "ipython",
    "version": 3
   },
   "file_extension": ".py",
   "mimetype": "text/x-python",
   "name": "python",
   "nbconvert_exporter": "python",
   "pygments_lexer": "ipython3",
   "version": "3.8.0"
  }
 },
 "nbformat": 4,
 "nbformat_minor": 4
}
