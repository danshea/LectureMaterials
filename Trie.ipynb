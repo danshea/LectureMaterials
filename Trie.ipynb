{
 "cells": [
  {
   "cell_type": "markdown",
   "metadata": {},
   "source": [
    "**Author:** Dan Shea  \n",
    "**Date:** 2019.12.01  \n",
    "**Description:** Rudimentary implementation of a Trie.  \n",
    "TODO: Still need to flesh out the method for insertion of words.  \n",
    "Assumptions for this trie structure are as follows:  \n",
    "* Root is the first letter of the word\n",
    "* Children nodes are unique"
   ]
  },
  {
   "cell_type": "code",
   "execution_count": 1,
   "metadata": {},
   "outputs": [],
   "source": [
    "class TrieNode:\n",
    "    def __init__(self, value=None):\n",
    "        self.value = value\n",
    "        self.children = list()"
   ]
  },
  {
   "cell_type": "code",
   "execution_count": 43,
   "metadata": {},
   "outputs": [],
   "source": [
    "class Trie:\n",
    "    def __init__(self):\n",
    "        self.root = None\n",
    "    \n",
    "    def bfs(self, value):\n",
    "        '''bfs(value) - search the trie in a breadth-first search returning a reference\n",
    "           to the first node containing value or None if the value is not in the trie'''\n",
    "        nodestack = list()\n",
    "        if self.root == None:\n",
    "            return None\n",
    "        else:\n",
    "            nodestack.append(self.root)\n",
    "            while nodestack != []:\n",
    "                ptr = nodestack.pop(0)\n",
    "                if ptr.value == value:\n",
    "                    return ptr\n",
    "                else:\n",
    "                    if ptr.children != []:\n",
    "                        nodestack.extend(ptr.children)\n",
    "            return None\n",
    "    \n",
    "    def validate_iter(ptr, word):\n",
    "        if len(word) == 0:\n",
    "            return False\n",
    "        else:\n",
    "            idx = 0\n",
    "            max_idx = len(word) - 1\n",
    "            character = word[idx]\n",
    "            if character != ptr.value:\n",
    "                return False\n",
    "            else:\n",
    "                idx += 1\n",
    "                if max_idx == 0:\n",
    "                    return True\n",
    "                elif idx > max_idx:\n",
    "                    return False\n",
    "                else:\n",
    "                    character = word[idx]\n",
    "                    for child_ptr in ptr.children:\n",
    "                        if child_ptr.value == character:\n",
    "                            return Trie.validate_iter(child_ptr, word[idx:])\n",
    "                    return False\n",
    "    \n",
    "    def validate(self, word):\n",
    "        '''validate(value) - traverse the trie from the root node comparing each character\n",
    "           in word and returning True if the word is in the trie, otherwise return False.'''\n",
    "        return Trie.validate_iter(self.root, word)"
   ]
  },
  {
   "cell_type": "code",
   "execution_count": 44,
   "metadata": {},
   "outputs": [],
   "source": [
    "t = Trie()"
   ]
  },
  {
   "cell_type": "code",
   "execution_count": 45,
   "metadata": {},
   "outputs": [],
   "source": [
    "# Insert the word 'foo'\n",
    "t.root = TrieNode('f')\n",
    "t.root.children.append(TrieNode('o'))\n",
    "t.root.children[0].children.append(TrieNode('o'))"
   ]
  },
  {
   "cell_type": "code",
   "execution_count": 46,
   "metadata": {},
   "outputs": [
    {
     "data": {
      "text/plain": [
       "<__main__.Trie at 0x10b0f95d0>"
      ]
     },
     "execution_count": 46,
     "metadata": {},
     "output_type": "execute_result"
    }
   ],
   "source": [
    "t"
   ]
  },
  {
   "cell_type": "code",
   "execution_count": 47,
   "metadata": {},
   "outputs": [
    {
     "data": {
      "text/plain": [
       "True"
      ]
     },
     "execution_count": 47,
     "metadata": {},
     "output_type": "execute_result"
    }
   ],
   "source": [
    "t.validate('foo')"
   ]
  },
  {
   "cell_type": "code",
   "execution_count": 48,
   "metadata": {},
   "outputs": [
    {
     "data": {
      "text/plain": [
       "True"
      ]
     },
     "execution_count": 48,
     "metadata": {},
     "output_type": "execute_result"
    }
   ],
   "source": [
    "t.validate('fo')"
   ]
  },
  {
   "cell_type": "code",
   "execution_count": 49,
   "metadata": {},
   "outputs": [
    {
     "data": {
      "text/plain": [
       "True"
      ]
     },
     "execution_count": 49,
     "metadata": {},
     "output_type": "execute_result"
    }
   ],
   "source": [
    "t.validate('f')"
   ]
  },
  {
   "cell_type": "code",
   "execution_count": 50,
   "metadata": {},
   "outputs": [
    {
     "data": {
      "text/plain": [
       "<__main__.TrieNode at 0x10b166390>"
      ]
     },
     "execution_count": 50,
     "metadata": {},
     "output_type": "execute_result"
    }
   ],
   "source": [
    "t.bfs('f')"
   ]
  },
  {
   "cell_type": "code",
   "execution_count": 53,
   "metadata": {},
   "outputs": [
    {
     "data": {
      "text/plain": [
       "<__main__.TrieNode at 0x10b1662d0>"
      ]
     },
     "execution_count": 53,
     "metadata": {},
     "output_type": "execute_result"
    }
   ],
   "source": [
    "t.bfs('o')"
   ]
  },
  {
   "cell_type": "code",
   "execution_count": 54,
   "metadata": {},
   "outputs": [
    {
     "data": {
      "text/plain": [
       "False"
      ]
     },
     "execution_count": 54,
     "metadata": {},
     "output_type": "execute_result"
    }
   ],
   "source": [
    "t.validate('foobar')"
   ]
  },
  {
   "cell_type": "code",
   "execution_count": 55,
   "metadata": {},
   "outputs": [
    {
     "data": {
      "text/plain": [
       "False"
      ]
     },
     "execution_count": 55,
     "metadata": {},
     "output_type": "execute_result"
    }
   ],
   "source": [
    "t.validate('not_there')"
   ]
  },
  {
   "cell_type": "code",
   "execution_count": 59,
   "metadata": {},
   "outputs": [],
   "source": [
    "t.root.children[0].children[0].children.append(TrieNode('t'))\n",
    "t.root.children[0].children[0].children.append(TrieNode('b'))"
   ]
  },
  {
   "cell_type": "code",
   "execution_count": 60,
   "metadata": {},
   "outputs": [],
   "source": [
    "t.root.children[0].children[0].children[1].children.append(TrieNode('a'))"
   ]
  },
  {
   "cell_type": "code",
   "execution_count": 61,
   "metadata": {},
   "outputs": [],
   "source": [
    "t.root.children[0].children[0].children[1].children[0].children.append(TrieNode('r'))"
   ]
  },
  {
   "cell_type": "code",
   "execution_count": 63,
   "metadata": {},
   "outputs": [
    {
     "name": "stdout",
     "output_type": "stream",
     "text": [
      "f is True\n",
      "fo is True\n",
      "foo is True\n",
      "foot is True\n",
      "foob is True\n",
      "fooba is True\n",
      "foobar is True\n",
      "nope is False\n",
      "nah is False\n",
      "football is False\n"
     ]
    }
   ],
   "source": [
    "for w in ['f', 'fo', 'foo', 'foot', 'foob', 'fooba', 'foobar', 'nope', 'nah', 'football']:\n",
    "    print(f'{w} is {t.validate(w)}')"
   ]
  },
  {
   "cell_type": "code",
   "execution_count": null,
   "metadata": {},
   "outputs": [],
   "source": []
  }
 ],
 "metadata": {
  "kernelspec": {
   "display_name": "Python 3",
   "language": "python",
   "name": "python3"
  },
  "language_info": {
   "codemirror_mode": {
    "name": "ipython",
    "version": 3
   },
   "file_extension": ".py",
   "mimetype": "text/x-python",
   "name": "python",
   "nbconvert_exporter": "python",
   "pygments_lexer": "ipython3",
   "version": "3.7.4"
  }
 },
 "nbformat": 4,
 "nbformat_minor": 4
}
