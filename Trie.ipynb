{
 "cells": [
  {
   "cell_type": "markdown",
   "metadata": {},
   "source": [
    "**Author:** Dan Shea  \n",
    "**Date:** 2019.12.01  \n",
    "**Description:** Rudimentary implementation of a Trie.  \n",
    "\n",
    "Assumptions for this trie structure are as follows:  \n",
    "* Root has a value of None\n",
    "* Children of the root corrrespond to the first letter of the word(s) inserted into the Trie\n",
    "* Children nodes are unique"
   ]
  },
  {
   "cell_type": "code",
   "execution_count": 1,
   "metadata": {},
   "outputs": [],
   "source": [
    "from collections import deque"
   ]
  },
  {
   "cell_type": "code",
   "execution_count": 2,
   "metadata": {},
   "outputs": [],
   "source": [
    "class TrieNode:\n",
    "    def __init__(self, value=None):\n",
    "        self.value = value\n",
    "        self.children = list()\n",
    "    def __repr__(self):\n",
    "        if self.value == None:\n",
    "            return 'TrieNode(*)'\n",
    "        else:\n",
    "            return f'TrieNode({self.value})'\n",
    "    def __str__(self):\n",
    "        return self.__repr__()"
   ]
  },
  {
   "cell_type": "code",
   "execution_count": 3,
   "metadata": {},
   "outputs": [],
   "source": [
    "class Trie:\n",
    "    def __init__(self):\n",
    "        self.root = TrieNode()\n",
    "    \n",
    "    def insert_word(self, word):\n",
    "        '''insert(word) - inserts the word into the Trie structure'''\n",
    "        ptr = self.root # Set the initial pointer to the root of the Trie\n",
    "        for character in word:\n",
    "            for node in ptr.children:\n",
    "                if node.value == character:\n",
    "                    ptr = node\n",
    "                    break\n",
    "            else:\n",
    "                new_node = TrieNode(character)\n",
    "                ptr.children.append(new_node)\n",
    "                try:\n",
    "                    ptr = ptr.children[ptr.children.index(new_node)]\n",
    "                except ValueError as e:\n",
    "                    raise ValueError('Previous append of TrieNode to children failed!')\n",
    "    \n",
    "    def bfs(self, value):\n",
    "        '''bfs(value) - search the trie in a breadth-first search returning a reference\n",
    "           to the first node containing value or None if the value is not in the trie'''\n",
    "        nodestack = deque()\n",
    "        if self.root == None:\n",
    "            return None\n",
    "        else:\n",
    "            nodestack.append(self.root)\n",
    "            while nodestack != []:\n",
    "                ptr = nodestack.popleft()\n",
    "                if ptr.value == value:\n",
    "                    return ptr\n",
    "                else:\n",
    "                    if ptr.children != []:\n",
    "                        nodestack.extend(ptr.children)\n",
    "            return None\n",
    "    \n",
    "    def validate_word(self, word):\n",
    "        '''validate_word(word) - return True if the word is in the Trie, otherwise return False'''\n",
    "        ptr = self.root\n",
    "        for character in word:\n",
    "            for node in ptr.children:\n",
    "                if node.value == character:\n",
    "                    ptr = node\n",
    "                    break\n",
    "            else:\n",
    "                return False\n",
    "        return True\n"
   ]
  },
  {
   "cell_type": "code",
   "execution_count": 4,
   "metadata": {},
   "outputs": [],
   "source": [
    "t = Trie()"
   ]
  },
  {
   "cell_type": "code",
   "execution_count": 5,
   "metadata": {},
   "outputs": [],
   "source": [
    "# Insert the word 'foo'\n",
    "t.insert_word('foo')"
   ]
  },
  {
   "cell_type": "code",
   "execution_count": 6,
   "metadata": {},
   "outputs": [
    {
     "data": {
      "text/plain": [
       "<__main__.Trie at 0x7f1a0d21ae20>"
      ]
     },
     "execution_count": 6,
     "metadata": {},
     "output_type": "execute_result"
    }
   ],
   "source": [
    "t"
   ]
  },
  {
   "cell_type": "code",
   "execution_count": 7,
   "metadata": {},
   "outputs": [
    {
     "data": {
      "text/plain": [
       "True"
      ]
     },
     "execution_count": 7,
     "metadata": {},
     "output_type": "execute_result"
    }
   ],
   "source": [
    "t.validate_word('foo')"
   ]
  },
  {
   "cell_type": "code",
   "execution_count": 8,
   "metadata": {},
   "outputs": [
    {
     "data": {
      "text/plain": [
       "True"
      ]
     },
     "execution_count": 8,
     "metadata": {},
     "output_type": "execute_result"
    }
   ],
   "source": [
    "t.validate_word('fo')"
   ]
  },
  {
   "cell_type": "code",
   "execution_count": 9,
   "metadata": {},
   "outputs": [
    {
     "data": {
      "text/plain": [
       "True"
      ]
     },
     "execution_count": 9,
     "metadata": {},
     "output_type": "execute_result"
    }
   ],
   "source": [
    "t.validate_word('f')"
   ]
  },
  {
   "cell_type": "code",
   "execution_count": 10,
   "metadata": {},
   "outputs": [
    {
     "data": {
      "text/plain": [
       "TrieNode(f)"
      ]
     },
     "execution_count": 10,
     "metadata": {},
     "output_type": "execute_result"
    }
   ],
   "source": [
    "t.bfs('f')"
   ]
  },
  {
   "cell_type": "code",
   "execution_count": 11,
   "metadata": {},
   "outputs": [
    {
     "data": {
      "text/plain": [
       "TrieNode(o)"
      ]
     },
     "execution_count": 11,
     "metadata": {},
     "output_type": "execute_result"
    }
   ],
   "source": [
    "t.bfs('o')"
   ]
  },
  {
   "cell_type": "code",
   "execution_count": 12,
   "metadata": {},
   "outputs": [
    {
     "data": {
      "text/plain": [
       "False"
      ]
     },
     "execution_count": 12,
     "metadata": {},
     "output_type": "execute_result"
    }
   ],
   "source": [
    "t.validate_word('foobar')"
   ]
  },
  {
   "cell_type": "code",
   "execution_count": 13,
   "metadata": {},
   "outputs": [],
   "source": [
    "t.insert_word('foobar')"
   ]
  },
  {
   "cell_type": "code",
   "execution_count": 14,
   "metadata": {},
   "outputs": [
    {
     "data": {
      "text/plain": [
       "True"
      ]
     },
     "execution_count": 14,
     "metadata": {},
     "output_type": "execute_result"
    }
   ],
   "source": [
    "t.validate_word('foobar')"
   ]
  },
  {
   "cell_type": "code",
   "execution_count": 15,
   "metadata": {},
   "outputs": [],
   "source": [
    "t.insert_word('football')"
   ]
  },
  {
   "cell_type": "code",
   "execution_count": 16,
   "metadata": {},
   "outputs": [
    {
     "data": {
      "text/plain": [
       "True"
      ]
     },
     "execution_count": 16,
     "metadata": {},
     "output_type": "execute_result"
    }
   ],
   "source": [
    "t.validate_word('football')"
   ]
  },
  {
   "cell_type": "code",
   "execution_count": 17,
   "metadata": {},
   "outputs": [
    {
     "data": {
      "text/plain": [
       "False"
      ]
     },
     "execution_count": 17,
     "metadata": {},
     "output_type": "execute_result"
    }
   ],
   "source": [
    "t.validate_word('footbar')"
   ]
  },
  {
   "cell_type": "code",
   "execution_count": 18,
   "metadata": {},
   "outputs": [
    {
     "data": {
      "text/plain": [
       "'TrieNode(*)'"
      ]
     },
     "execution_count": 18,
     "metadata": {},
     "output_type": "execute_result"
    }
   ],
   "source": [
    "str(TrieNode())"
   ]
  },
  {
   "cell_type": "code",
   "execution_count": null,
   "metadata": {},
   "outputs": [],
   "source": []
  }
 ],
 "metadata": {
  "kernelspec": {
   "display_name": "Python 3",
   "language": "python",
   "name": "python3"
  },
  "language_info": {
   "codemirror_mode": {
    "name": "ipython",
    "version": 3
   },
   "file_extension": ".py",
   "mimetype": "text/x-python",
   "name": "python",
   "nbconvert_exporter": "python",
   "pygments_lexer": "ipython3",
   "version": "3.8.0"
  }
 },
 "nbformat": 4,
 "nbformat_minor": 4
}
