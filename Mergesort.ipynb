{
 "cells": [
  {
   "cell_type": "markdown",
   "metadata": {},
   "source": [
    "Author: Dan Shea  \n",
    "Date: 2019.12.20  \n",
    "Description: Mergesort implementation  \n",
    "#### Implementation of mergesort\n",
    "Given a list sort items using the mergesort algorithm"
   ]
  },
  {
   "cell_type": "code",
   "execution_count": 3,
   "metadata": {},
   "outputs": [],
   "source": [
    "def merge(s1, s2, ascending):\n",
    "    '''\n",
    "    merge two sorted sub-lists together, returning the sorted merged list\n",
    "    \n",
    "    >>> merge([1, 3, 5], [2, 4, 6], True)\n",
    "    [1, 2, 3, 4, 5, 6]\n",
    "    \n",
    "    >>> merge([5, 3, 1], [6, 4, 2], False)\n",
    "    [6, 5, 4, 3, 2, 1]\n",
    "    \n",
    "    >>> merge([], [], True)\n",
    "    []\n",
    "    \n",
    "    >>> merge([], [2, 6, 7], True)\n",
    "    [2, 6, 7]\n",
    "    '''\n",
    "    # Get the lengths of the sub-lists\n",
    "    s1_len = len(s1)\n",
    "    s2_len = len(s2)\n",
    "    R = list()\n",
    "    i, j = 0, 0\n",
    "    R_len = s1_len + s2_len\n",
    "    if ascending == True:\n",
    "        # While we still have elements to place into the merged list\n",
    "        while i+j < R_len:\n",
    "            # If we have no more elements in s2 or we still have elements in s1 and the s1 value is less than or equal to the s2 value\n",
    "            if (j == s2_len) or ((i < s1_len) and (s1[i] <= s2[j])):\n",
    "                # Add the s1 value to the merged list and increment the s1 index i by 1\n",
    "                R.append(s1[i])\n",
    "                i += 1\n",
    "            else:\n",
    "                # else we add the s2 value to the merged list and increment the s2 index j by 1\n",
    "                R.append(s2[j])\n",
    "                j += 1\n",
    "    else:\n",
    "        while i+j < R_len:\n",
    "            if (j == s2_len) or ((i < s1_len) and (s1[i] >= s2[j])):\n",
    "                R.append(s1[i])\n",
    "                i += 1\n",
    "            else:\n",
    "                R.append(s2[j])\n",
    "                j += 1\n",
    "    return R\n",
    "            \n",
    "def mergesort(l, ascending=True):\n",
    "    '''\n",
    "    runs mergesort on a list and returns the list in sorted order\n",
    "    \n",
    "    >>> mergesort([3, 45, 6, 62, 8, 0, 2, 4, 69, 13, 7])\n",
    "    [0, 2, 3, 4, 6, 7, 8, 13, 45, 62, 69]\n",
    "    \n",
    "    >>> mergesort([3, 45, 6, 62, 8, 0, 2, 4, 69, 13, 7], ascending=False)\n",
    "    [69, 62, 45, 13, 8, 7, 6, 4, 3, 2, 0]\n",
    "    \n",
    "    >>> mergesort([])\n",
    "    []\n",
    "    \n",
    "    >>> mergesort([1])\n",
    "    [1]\n",
    "    \n",
    "    >>> mergesort([3, 2 ,1])\n",
    "    [1, 2, 3]\n",
    "    \n",
    "    >>> mergesort([3, 2, 1], ascending=False)\n",
    "    [3, 2, 1]\n",
    "    '''\n",
    "    # Get the length of the list\n",
    "    length = len(l)\n",
    "    # If the list is empty or only contains one element, return the list\n",
    "    if length <= 1:\n",
    "        return l\n",
    "    elif length == 2:\n",
    "        if ascending == True:\n",
    "            if l[0] <= l[1]:\n",
    "                return l\n",
    "            else:\n",
    "                return [l[1], l[0]]\n",
    "        else:\n",
    "            if l[0] <= l[1]:\n",
    "                return [l[1], l[0]]\n",
    "            else:\n",
    "                return l\n",
    "    else:\n",
    "        S1 = mergesort(l[0:length//2], ascending)\n",
    "        S2 = mergesort(l[length//2:], ascending)\n",
    "        return merge(S1, S2, ascending)"
   ]
  },
  {
   "cell_type": "code",
   "execution_count": 8,
   "metadata": {},
   "outputs": [
    {
     "data": {
      "text/plain": [
       "[0, 2, 3, 4, 6, 7, 8, 13, 45, 62, 69]"
      ]
     },
     "execution_count": 8,
     "metadata": {},
     "output_type": "execute_result"
    }
   ],
   "source": [
    "test = [3, 45, 6, 62, 8, 0, 2, 4, 69, 13, 7]\n",
    "mergesort(test)"
   ]
  },
  {
   "cell_type": "code",
   "execution_count": 9,
   "metadata": {},
   "outputs": [
    {
     "data": {
      "text/plain": [
       "[69, 62, 45, 13, 8, 7, 6, 4, 3, 2, 0]"
      ]
     },
     "execution_count": 9,
     "metadata": {},
     "output_type": "execute_result"
    }
   ],
   "source": [
    "mergesort(test, ascending=False)"
   ]
  },
  {
   "cell_type": "code",
   "execution_count": 10,
   "metadata": {},
   "outputs": [
    {
     "data": {
      "text/plain": [
       "[]"
      ]
     },
     "execution_count": 10,
     "metadata": {},
     "output_type": "execute_result"
    }
   ],
   "source": [
    "test2 = []\n",
    "mergesort(test2)"
   ]
  },
  {
   "cell_type": "code",
   "execution_count": 11,
   "metadata": {},
   "outputs": [
    {
     "data": {
      "text/plain": [
       "[1]"
      ]
     },
     "execution_count": 11,
     "metadata": {},
     "output_type": "execute_result"
    }
   ],
   "source": [
    "test3 = [1]\n",
    "mergesort(test3)"
   ]
  },
  {
   "cell_type": "code",
   "execution_count": 12,
   "metadata": {},
   "outputs": [
    {
     "data": {
      "text/plain": [
       "[1, 2]"
      ]
     },
     "execution_count": 12,
     "metadata": {},
     "output_type": "execute_result"
    }
   ],
   "source": [
    "test4 = [2,1]\n",
    "mergesort(test4)"
   ]
  },
  {
   "cell_type": "code",
   "execution_count": 13,
   "metadata": {},
   "outputs": [
    {
     "data": {
      "text/plain": [
       "[1, 2, 3]"
      ]
     },
     "execution_count": 13,
     "metadata": {},
     "output_type": "execute_result"
    }
   ],
   "source": [
    "test5 = [3,2,1]\n",
    "mergesort(test5)"
   ]
  },
  {
   "cell_type": "code",
   "execution_count": 14,
   "metadata": {},
   "outputs": [
    {
     "data": {
      "text/plain": [
       "[3, 2, 1]"
      ]
     },
     "execution_count": 14,
     "metadata": {},
     "output_type": "execute_result"
    }
   ],
   "source": [
    "mergesort(test5, ascending=False)"
   ]
  },
  {
   "cell_type": "code",
   "execution_count": 15,
   "metadata": {},
   "outputs": [
    {
     "data": {
      "text/plain": [
       "[1, 2, 3, 4, 5, 6]"
      ]
     },
     "execution_count": 15,
     "metadata": {},
     "output_type": "execute_result"
    }
   ],
   "source": [
    "mergetest_a = [1, 3, 5]\n",
    "mergetest_b = [2, 4, 6]\n",
    "merge(mergetest_a, mergetest_b, True)"
   ]
  },
  {
   "cell_type": "code",
   "execution_count": 18,
   "metadata": {},
   "outputs": [
    {
     "data": {
      "text/plain": [
       "[6, 5, 4, 3, 2, 1]"
      ]
     },
     "execution_count": 18,
     "metadata": {},
     "output_type": "execute_result"
    }
   ],
   "source": [
    "mergetest_a = [5, 3, 1]\n",
    "mergetest_b = [6, 4, 2]\n",
    "merge(mergetest_a, mergetest_b, False)"
   ]
  },
  {
   "cell_type": "code",
   "execution_count": 19,
   "metadata": {},
   "outputs": [
    {
     "data": {
      "text/plain": [
       "[]"
      ]
     },
     "execution_count": 19,
     "metadata": {},
     "output_type": "execute_result"
    }
   ],
   "source": [
    "merge([],[], True)"
   ]
  },
  {
   "cell_type": "code",
   "execution_count": 20,
   "metadata": {},
   "outputs": [
    {
     "data": {
      "text/plain": [
       "[2, 6, 7]"
      ]
     },
     "execution_count": 20,
     "metadata": {},
     "output_type": "execute_result"
    }
   ],
   "source": [
    "merge([], [2, 6, 7], True)"
   ]
  },
  {
   "cell_type": "code",
   "execution_count": null,
   "metadata": {},
   "outputs": [],
   "source": []
  }
 ],
 "metadata": {
  "kernelspec": {
   "display_name": "Python 3",
   "language": "python",
   "name": "python3"
  },
  "language_info": {
   "codemirror_mode": {
    "name": "ipython",
    "version": 3
   },
   "file_extension": ".py",
   "mimetype": "text/x-python",
   "name": "python",
   "nbconvert_exporter": "python",
   "pygments_lexer": "ipython3",
   "version": "3.8.0"
  }
 },
 "nbformat": 4,
 "nbformat_minor": 4
}
